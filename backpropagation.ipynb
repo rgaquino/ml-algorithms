{
 "cells": [
  {
   "cell_type": "markdown",
   "metadata": {
    "collapsed": true
   },
   "source": [
    "# Backpropagation Algorithm"
   ]
  },
  {
   "cell_type": "markdown",
   "metadata": {},
   "source": [
    "Given training set $\\{(x^{(1)},y^{(1)})...(x^{(m)},y^{(m)})\\}$    \n",
    "\n",
    "Set $\\Delta_{i, j} := 0$ for all (l,i,j), hence you end up having a matrix full of zeros.    \n",
    "\n",
    "For training example t = 1 to m:\n",
    "\n",
    "1. Set $a^{(1)} := x^{(t)}$  \n",
    "<br>\n",
    "2. Perform forward propagation to compute $a^{(l)}$ for l=2,3,...,L  \n",
    "<br>\n",
    "3. Using $y^{(t)}$, compute $\\delta^{(L)} = a^{(L)}-y^{(t)}$\n",
    "\n",
    "    Where L is our total number of layers and $a^{(L)}$ is the vector of outputs of the activation units for the last layer. So our \"error values\" for the last layer are simply the differences of our actual results in the last layer and the correct outputs in y. To get the delta values of the layers before the last layer, we can use an equation that steps us back from right to left.  \n",
    "<br>\n",
    "4. Compute $\\delta^{(L-1)},...,\\delta^{(2)}$ using $\\delta^{(l)}=((\\Theta^{(l)})^{T}\\delta^{(l+1)}\\cdot*a^{(l)}\\cdot*(1-a^{(l)})$\n",
    "\n",
    "    The delta values of layer *l* are calculated by multiplying the delta values in the next layer with the theta matrix of layer *l*. We then element-wise multiply that with a function called *g'*, or g-prime, which is the derivative of the activation function *g* evaluated with the input values given by $z^{(l)}$.\n",
    "\n",
    "    The g-prime derivate terms can also be written out as: $g'(z^{(l)})=a^{(l)}\\cdot*(1-a^{(l)})$  \n",
    "<br>\n",
    "5. $\\Delta_{i,j}^{(l)} := \\Delta_{i,j}^{(l)}+a_{j}^{(l)}\\delta_{i}^{(l+1)}$ or with vectorization, $\\Delta^{(l)} := \\Delta^{(l)}+\\delta^{(l+1)}(a^{(l)})^{T}$\n",
    "\n",
    "    Hence we update our new $\\Delta$ matrix.\n",
    "\n",
    "    - $D_{i,j}^{l} := \\frac{1}{m}(\\Delta_{i,j}^{(l)}+\\lambda\\Theta_{i,j}^{l})$, if $j\\neq0$.\n",
    "    - $D_{i,j}^{l} := \\frac{1}{m}\\Delta_{i,j}^{(l)}$, if $j=0$."
   ]
  }
 ],
 "metadata": {
  "kernelspec": {
   "display_name": "Python 3",
   "language": "python",
   "name": "python3"
  },
  "language_info": {
   "codemirror_mode": {
    "name": "ipython",
    "version": 3
   },
   "file_extension": ".py",
   "mimetype": "text/x-python",
   "name": "python",
   "nbconvert_exporter": "python",
   "pygments_lexer": "ipython3",
   "version": "3.6.4"
  }
 },
 "nbformat": 4,
 "nbformat_minor": 2
}
