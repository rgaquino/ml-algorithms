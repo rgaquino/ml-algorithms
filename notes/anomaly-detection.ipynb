{
 "cells": [
  {
   "cell_type": "markdown",
   "metadata": {},
   "source": [
    "# Anomaly Detection"
   ]
  },
  {
   "cell_type": "markdown",
   "metadata": {},
   "source": [
    "### Mutually Independent \n",
    "\n",
    "1. Choose features $x_{i}$ that looks anomalous.  \n",
    "<br>\n",
    "2. Fit parameters $\\mu_{1},...,\\mu_{n},\\sigma_{1}^{2},...,\\sigma_{n}^{2}$: $$\\mu_{j} = \\frac{1}{m} \\sum_{i=1}^{m} x_{j}^{(i)}$$ $$\\sigma_{j}^{2} = \\frac{1}{m} \\sum_{i=1}^{m} (x_{j}^{(i)} - \\mu_{j})^{2}$$  \n",
    "<br>\n",
    "3. Given new example $x$, compute: $$p(x) = \\prod_{j=1}^{n} p(x_{j}; \\mu_{j}, \\sigma_{j}^{2}) = \\prod_{j=1}^{n} \\frac{1}{\\sigma_{j}\\sqrt{2\\pi}}exp\\bigg(-\\frac{(x_{j}-\\mu_{j})^{2}}{2\\sigma_{j}^{2}}\\bigg)$$  \n",
    "<br>\n",
    "4. Set $x$ as an anomaly if $p(x) < \\epsilon$."
   ]
  },
  {
   "cell_type": "markdown",
   "metadata": {},
   "source": [
    "### Multivariate Gaussian\n",
    "\n",
    "1. Fit model $p(x)$ by setting: $$\\mu = \\frac{1}{m} \\sum_{i=1}^{m} x^{(i)}$$ $$\\Sigma = \\frac{1}{m} \\sum_{i=1}^{m} (x^{(i)}-\\mu)(x^{(i)}-\\mu)^{T}$$  \n",
    "<br>\n",
    "2. Given a new example $x$, compute for\n",
    "$$p(x; \\mu, \\Sigma) = \\frac{1}{(2\\pi)^{\\frac{n}{2}}|\\Sigma| ^{\\frac{1}{2}}}exp\\bigg(-\\frac{(x-\\mu)^{T}\\Sigma^{-1}(x-\\mu)}{2}\\bigg)$$ where $|\\Sigma|$ is the determinant of $\\Sigma$  .\n",
    "<br>\n",
    "3. Set $x$ as an anomaly if $p(X) < \\epsilon$."
   ]
  }
 ],
 "metadata": {
  "kernelspec": {
   "display_name": "Python 3",
   "language": "python",
   "name": "python3"
  },
  "language_info": {
   "codemirror_mode": {
    "name": "ipython",
    "version": 3
   },
   "file_extension": ".py",
   "mimetype": "text/x-python",
   "name": "python",
   "nbconvert_exporter": "python",
   "pygments_lexer": "ipython3",
   "version": "3.6.4"
  }
 },
 "nbformat": 4,
 "nbformat_minor": 2
}
