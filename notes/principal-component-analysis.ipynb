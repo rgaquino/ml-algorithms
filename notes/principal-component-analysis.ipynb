{
 "cells": [
  {
   "cell_type": "markdown",
   "metadata": {},
   "source": [
    "# Principal Component Analysis (PCA)"
   ]
  },
  {
   "cell_type": "markdown",
   "metadata": {},
   "source": [
    "### Goal\n",
    "\n",
    "Reduce from n-dimension to k-dimension: find $k$ vectors $u^{(1)}, u^{(2)},...,u^{(k)}$ onto which to project the data as to minimize the projection error."
   ]
  },
  {
   "cell_type": "markdown",
   "metadata": {},
   "source": [
    "### Steps\n",
    "\n",
    "1. Feature scaling / mean normalization: $$\\mu_{j}=\\frac{1}{m} \\sum_{i=1}^{m} x_{j}^{(i)}$$ Replace each $x_{j}^{(i)}$ with $x_{j} - \\mu_{j}$. If different feature are on different scales, replace with $\\frac{x_{j}^{(i)} - \\mu_{j}}{s_{j}}$.  \n",
    "<br>\n",
    "2. Compute \"covariance matrix\": $$Sigma = \\frac{1}{m}\\sum_{i=1}^{n}(x^{(i)})(x^{(i)})^{T}$$  \n",
    "<br>\n",
    "3. Compute \"eigenvectors\" of matrix $Sigma$. In octave:\n",
    "`[U, S, V] = svd(Sigma)` where `svd()` is the function for singular value decomposition.  \n",
    "<br>\n",
    "4. Get $U_{reduce}$ from results of #3 by getting the first $k$ columns of matrix $U$.  \n",
    "<br>\n",
    "5. Find the reduced values (note that $x\\in\\mathbb{R}^{n}$. That is, no need for $x_{0}$):  $z = U_{reduce}^{T} \\cdot x$"
   ]
  },
  {
   "cell_type": "markdown",
   "metadata": {},
   "source": [
    "### Reconstruction and choosing $k$\n",
    "\n",
    "- Uncompress representation back to original dimensions: $X_{approx} = U_{reduce}\\cdot z$  \n",
    "<br>\n",
    "- Typically, choose k to be smallest value so that: $$\\frac{\\frac{1}{m}\\sum_{i=1}^{m} (\\lVert x^{(i)} - x_{approx}^{(i)} \\rVert)^{2}}{\\frac{1}{m}\\sum_{i=1}^{m} (\\lVert x^{(i)} \\rVert)^{2}} \\leq 0.01$$\n",
    "This means the 99% of variance is retained.   \n",
    "<br>\n",
    "- Alternatively, choose k to be smallest value so that when using matrix $S$ from the results of `svd()` we get: $$\\frac{\\sum_{i=i}^{k}s_{ii}}{\\sum_{i=i}^{n}s_{ii}} \\geq 0.99$$\n"
   ]
  }
 ],
 "metadata": {
  "kernelspec": {
   "display_name": "Python 3",
   "language": "python",
   "name": "python3"
  },
  "language_info": {
   "codemirror_mode": {
    "name": "ipython",
    "version": 3
   },
   "file_extension": ".py",
   "mimetype": "text/x-python",
   "name": "python",
   "nbconvert_exporter": "python",
   "pygments_lexer": "ipython3",
   "version": "3.6.4"
  }
 },
 "nbformat": 4,
 "nbformat_minor": 2
}
