{
 "cells": [
  {
   "cell_type": "markdown",
   "metadata": {},
   "source": [
    "# Bias and Variance"
   ]
  },
  {
   "cell_type": "markdown",
   "metadata": {},
   "source": [
    "### Choosing regularization term $\\lambda$\n",
    "\n",
    "1. Create an array of lambdas.\n",
    "2. Create a set of models with different degrees or any other variants.\n",
    "3. Iterate through the $\\lambda$s and for each $\\lambda$ go through all the models to learn some $\\Theta$.\n",
    "4. Compute the cross validation error using the learned $\\Theta$ (computed with $\\lambda$) on the $J_{CV}(\\theta)$ **without** regularization or $\\lambda = 0$.\n",
    "5. Select the best combo that produces the lowest error on the cross validation set.\n",
    "6. Using the best combo $\\Theta$ and $\\lambda$, apply it on $J_{test}(\\Theta)$ to see if it has a good generalization of the problem."
   ]
  },
  {
   "cell_type": "markdown",
   "metadata": {},
   "source": [
    "### Learning Curves\n",
    "\n",
    "#### Experiencing high bias:\n",
    "- **low training set size**: causes $J_{train}(\\Theta)$ to be low and $J_{CV}(\\Theta)$ to be high.\n",
    "- **large training set size**: causes both $J_{train}(\\Theta)$ and $J_{CV}(\\Theta)$ to be high with $J_{train}(\\Theta) \\approx J_{CV}(\\Theta)$\n",
    "- If a learning algorithm is suffering from **high bias**, getting more training data will not by itself help much.\n",
    "\n",
    "#### Experiencing high variance:\n",
    "- **low training set size**: $J_{train}(\\Theta)$ will be low and $J_{CV}(\\Theta)$ will be high.\n",
    "- **large training set size**: $J_{train}(\\Theta)$ increases with training set size and $J_{CV}(\\Theta)$ continues to descrease without leveling off. Also, $J_{train}(\\Theta) \\lt J_{CV}(\\Theta)$ but the difference between them remains significant.\n",
    "- If a learning algorithm is suffering from **high variance**, getting more training data is likely to help.\n"
   ]
  }
 ],
 "metadata": {
  "kernelspec": {
   "display_name": "Python 3",
   "language": "python",
   "name": "python3"
  },
  "language_info": {
   "codemirror_mode": {
    "name": "ipython",
    "version": 3
   },
   "file_extension": ".py",
   "mimetype": "text/x-python",
   "name": "python",
   "nbconvert_exporter": "python",
   "pygments_lexer": "ipython3",
   "version": "3.6.4"
  }
 },
 "nbformat": 4,
 "nbformat_minor": 2
}
