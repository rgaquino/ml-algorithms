{
 "cells": [
  {
   "cell_type": "markdown",
   "metadata": {},
   "source": [
    "# K-Means Clustering"
   ]
  },
  {
   "cell_type": "markdown",
   "metadata": {},
   "source": [
    "### Optimization Objective\n",
    "\n",
    "- $c^{(i)}$ = index of cluster (1, 2,..., K) to which example \n",
    " $x^{i}$ is currently assigned\n",
    "- $\\mu_{k}$ = cluster centroid $k$ ($\\mu_{k}\\in\\mathbb{R}^{n}$)\n",
    "- $\\mu_{c^{(i)}}$ = cluster centroid of cluster to which example $x^{(i)}$ has been assigned\n",
    "\n",
    "The objective is to minimize: $$J(c^{(1)},...c^{(m)},\\mu_{1},...,\\mu_{K}) = \\frac{1}{m} \\sum_{i=1}^{m} \\lVert x^{(i)} - \\mu_{c^{(i)}} \\rVert^{2}$$"
   ]
  },
  {
   "cell_type": "markdown",
   "metadata": {},
   "source": [
    "### Algorithm\n",
    "\n",
    "1. Randomly initialize $K$ cluster centroids $\\mu_{1},...,\\mu_{K} \\in \\mathbb{R}^{n}$.\n",
    "2. Cluster assignment step:\n",
    "        for i=1 to m\n",
    "            c_i := index (from 1 to K) of cluster centroid closest to x_i\n",
    "3. Move centroid step:\n",
    "        for k=1 to K\n",
    "            mu_k := average (mean) of points assigned to cluster k\n",
    "\n",
    "4. Repeat 2 and 3.\n",
    "       "
   ]
  },
  {
   "cell_type": "markdown",
   "metadata": {},
   "source": [
    "### Random initialization\n",
    "\n",
    "This is done to avoid converging on local optima. Should have $K < m$. Randomly pick $K$ training examples. Set $\\mu_{1},...,\\mu_{k}$ equal to these $K$ examples.\n",
    "\n",
    "        for i=1 to 100 {\n",
    "            randomly initialize k-means\n",
    "            run k-means and get values for all c and mu\n",
    "            compute cost function (distortion) J\n",
    "        }\n",
    "        \n",
    "Pick clustering that gave lowest $J(c^{(1)},...c^{(m)},\\mu_{1},...,\\mu_{K})$."
   ]
  }
 ],
 "metadata": {
  "kernelspec": {
   "display_name": "Python 3",
   "language": "python",
   "name": "python3"
  },
  "language_info": {
   "codemirror_mode": {
    "name": "ipython",
    "version": 3
   },
   "file_extension": ".py",
   "mimetype": "text/x-python",
   "name": "python",
   "nbconvert_exporter": "python",
   "pygments_lexer": "ipython3",
   "version": "3.6.4"
  }
 },
 "nbformat": 4,
 "nbformat_minor": 2
}
